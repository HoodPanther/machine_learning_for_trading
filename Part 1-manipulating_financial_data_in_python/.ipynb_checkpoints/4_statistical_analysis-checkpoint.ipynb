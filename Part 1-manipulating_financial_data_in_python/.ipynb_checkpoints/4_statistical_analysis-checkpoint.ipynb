{
 "cells": [
  {
   "cell_type": "code",
   "execution_count": 8,
   "metadata": {
    "collapsed": true
   },
   "outputs": [],
   "source": [
    "import pandas as pd\n",
    "import matplotlib.pyplot as plt\n",
    "import numpy as np"
   ]
  },
  {
   "cell_type": "code",
   "execution_count": 13,
   "metadata": {
    "collapsed": false
   },
   "outputs": [
    {
     "name": "stderr",
     "output_type": "stream",
     "text": [
      "C:\\Anaconda2\\lib\\site-packages\\ipykernel\\__main__.py:42: FutureWarning: pd.rolling_mean is deprecated for Series and will be removed in a future version, replace with \n",
      "\tSeries.rolling(window=20,center=False).mean()\n"
     ]
    }
   ],
   "source": [
    "import os\n",
    "import pandas as pd\n",
    "import matplotlib.pyplot as plt\n",
    "\n",
    "def plot_selected(df, columns, start_index, end_index):\n",
    "    \"\"\"Plot the desired columns over index values in the given range\"\"\"\n",
    "    plot_data(df.ix[start_index:end_index,columns], title=\"Selected data\")\n",
    "     \n",
    "\n",
    "def symbol_to_path(symbol, base_dir=\"data\"):\n",
    "    \"\"\"Return CSV file path given ticker symbol\"\"\"\n",
    "    return os.path.join(base_dir, \"{}.csv\".format(str(symbol)))\n",
    "\n",
    "def get_data(symbols, dates):\n",
    "    \"\"\"Read stock data (adjusted close) for given symbols from CSV files\"\"\"\n",
    "    df = pd.DataFrame(index=dates)\n",
    "    if 'SPY' not in symbols: # add SPY for reference, if absent\n",
    "        symbols.insert(0, 'SPY')\n",
    "        \n",
    "    for symbol in symbols:\n",
    "        df_temp = pd.read_csv(symbol_to_path(symbol), index_col='Date',\n",
    "                           parse_dates=True, usecols=['Date', 'Adj Close'], na_values=['nan'])\n",
    "        df_temp = df_temp.rename(columns = {'Adj Close': symbol})\n",
    "        df = df.join(df_temp) # use default how='left'\n",
    "        if symbol == 'SPY': #drop dates SPY did not trade\n",
    "            df = df.dropna(subset=[\"SPY\"])\n",
    "        \n",
    "    return df\n",
    " \n",
    "\n",
    "def test_run():\n",
    "    # read data\n",
    "    dates = pd.date_range('2012-01-01', '2012-12-31')\n",
    "    symbols = ['SPY']\n",
    "    df = get_data(symbols, dates)\n",
    "    \n",
    "    # Plot SPY data, retain matplotlib axis object\n",
    "    ax = df['SPY'].plot(title=\"SPY rolling mean\", label='SPY')\n",
    "    \n",
    "    # compute rolling mean using a 20-day window\n",
    "    rm_SPY = pd.rolling_mean(df['SPY'], window=20)\n",
    "    \n",
    "    # Add rolling mean to same plot\n",
    "    rm_SPY.plot(label='Rolling mean', ax=ax)\n",
    "    \n",
    "    #add axis labels and legend\n",
    "    ax.set_xlabel(\"Date\")\n",
    "    ax.set_ylabel(\"Price\")\n",
    "    ax.legend(loc='upper left')\n",
    "    plt.show()\n",
    "    \n",
    "if __name__ == \"__main__\":\n",
    "    test_run()"
   ]
  },
  {
   "cell_type": "markdown",
   "metadata": {},
   "source": [
    "## Bollinger Bands"
   ]
  },
  {
   "cell_type": "code",
   "execution_count": 30,
   "metadata": {
    "collapsed": false
   },
   "outputs": [
    {
     "name": "stderr",
     "output_type": "stream",
     "text": [
      "C:\\Anaconda2\\lib\\site-packages\\ipykernel\\__main__.py:32: FutureWarning: pd.rolling_mean is deprecated for Series and will be removed in a future version, replace with \n",
      "\tSeries.rolling(window=20,center=False).mean()\n",
      "C:\\Anaconda2\\lib\\site-packages\\ipykernel\\__main__.py:36: FutureWarning: pd.rolling_std is deprecated for Series and will be removed in a future version, replace with \n",
      "\tSeries.rolling(window=20,center=False).std()\n"
     ]
    }
   ],
   "source": [
    "import os\n",
    "import pandas as pd\n",
    "import matplotlib.pyplot as plt\n",
    "\n",
    "def plot_selected(df, columns, start_index, end_index):\n",
    "    \"\"\"Plot the desired columns over index values in the given range\"\"\"\n",
    "    plot_data(df.ix[start_index:end_index,columns], title=\"Selected data\")\n",
    "     \n",
    "\n",
    "def symbol_to_path(symbol, base_dir=\"data\"):\n",
    "    \"\"\"Return CSV file path given ticker symbol\"\"\"\n",
    "    return os.path.join(base_dir, \"{}.csv\".format(str(symbol)))\n",
    "\n",
    "def get_data(symbols, dates):\n",
    "    \"\"\"Read stock data (adjusted close) for given symbols from CSV files\"\"\"\n",
    "    df = pd.DataFrame(index=dates)\n",
    "    if 'SPY' not in symbols: # add SPY for reference, if absent\n",
    "        symbols.insert(0, 'SPY')\n",
    "        \n",
    "    for symbol in symbols:\n",
    "        df_temp = pd.read_csv(symbol_to_path(symbol), index_col='Date',\n",
    "                           parse_dates=True, usecols=['Date', 'Adj Close'], na_values=['nan'])\n",
    "        df_temp = df_temp.rename(columns = {'Adj Close': symbol})\n",
    "        df = df.join(df_temp) # use default how='left'\n",
    "        if symbol == 'SPY': #drop dates SPY did not trade\n",
    "            df = df.dropna(subset=[\"SPY\"])\n",
    "        \n",
    "    return df\n",
    "\n",
    "def get_rolling_mean(values, window):\n",
    "    \"\"\"Return rolling mean of given values, using specified window size\"\"\"\n",
    "    return pd.rolling_mean(values, window=window)\n",
    "\n",
    "def get_rolling_std(values, window):\n",
    "    \"\"\"Return rolling standard deviation of given values, using specified window size\"\"\"\n",
    "    return pd.rolling_std(values, window=window)\n",
    "\n",
    "def get_bollinger_bands(rm, rstd):\n",
    "    \"\"\"Return upper and lower Bollinger Bands\"\"\"\n",
    "    upper_band = rm + rstd * 2\n",
    "    lower_band = rm - rstd * 2\n",
    "    return upper_band, lower_band\n",
    "      \n",
    "\n",
    "def test_run():\n",
    "    # read data\n",
    "    dates = pd.date_range('2012-01-01', '2012-12-31')\n",
    "    symbols = ['SPY']\n",
    "    df = get_data(symbols, dates)\n",
    "    \n",
    "    #Compute Bollinger Bands\n",
    "    #1. Compute rolling mean\n",
    "    rm_SPY = get_rolling_mean(df['SPY'], window=20)\n",
    "    \n",
    "    #2. Compute rolling standard deviation\n",
    "    rstd_SPY = get_rolling_std(df['SPY'], window=20)\n",
    "    \n",
    "    #3 Compute upper and lower bands\n",
    "    upper_band, lower_band = get_bollinger_bands(rm_SPY, rstd_SPY)\n",
    "    \n",
    "    # Plot raw SPY values, rolling mean and bollinger bands\n",
    "    ax = df['SPY'].plot(title=\"Bollinger Bands\", label='SPY')\n",
    "    rm_SPY.plot(label='Rolling mean', ax=ax)\n",
    "    upper_band.plot(label='upper band', ax=ax)\n",
    "    lower_band.plot(label='lower band', ax=ax)\n",
    "    \n",
    "    \n",
    "    #add axis labels and legend\n",
    "    ax.set_xlabel(\"Date\")\n",
    "    ax.set_ylabel(\"Price\")\n",
    "    ax.legend(loc='upper left')\n",
    "    ax.grid(True, which='both')\n",
    "    plt.minorticks_on()\n",
    "    plt.show()\n",
    "    \n",
    "if __name__ == \"__main__\":\n",
    "    test_run()"
   ]
  },
  {
   "cell_type": "markdown",
   "metadata": {},
   "source": [
    "## Daily Returns"
   ]
  },
  {
   "cell_type": "code",
   "execution_count": 20,
   "metadata": {
    "collapsed": false
   },
   "outputs": [],
   "source": [
    "import os\n",
    "import pandas as pd\n",
    "import matplotlib.pyplot as plt\n",
    "\n",
    "def plot_selected(df, columns, start_index, end_index):\n",
    "    \"\"\"Plot the desired columns over index values in the given range\"\"\"\n",
    "    plot_data(df.ix[start_index:end_index,columns], title=\"Selected data\")\n",
    "     \n",
    "\n",
    "def symbol_to_path(symbol, base_dir=\"data\"):\n",
    "    \"\"\"Return CSV file path given ticker symbol\"\"\"\n",
    "    return os.path.join(base_dir, \"{}.csv\".format(str(symbol)))\n",
    "\n",
    "def get_data(symbols, dates):\n",
    "    \"\"\"Read stock data (adjusted close) for given symbols from CSV files\"\"\"\n",
    "    df = pd.DataFrame(index=dates)\n",
    "    if 'SPY' not in symbols: # add SPY for reference, if absent\n",
    "        symbols.insert(0, 'SPY')\n",
    "        \n",
    "    for symbol in symbols:\n",
    "        df_temp = pd.read_csv(symbol_to_path(symbol), index_col='Date',\n",
    "                           parse_dates=True, usecols=['Date', 'Adj Close'], na_values=['nan'])\n",
    "        df_temp = df_temp.rename(columns = {'Adj Close': symbol})\n",
    "        df = df.join(df_temp) # use default how='left'\n",
    "        if symbol == 'SPY': #drop dates SPY did not trade\n",
    "            df = df.dropna(subset=[\"SPY\"])\n",
    "        \n",
    "    return df\n",
    "\n",
    "def plot_data(df, title=\"Stock prices\", xlabel=\"Date\", ylabel=\"price\"):\n",
    "    \"\"\"Plot stock prices with a custom title and meaningful axis labels\"\"\"\n",
    "    ax = df.plot(title=title, fontsize=12)\n",
    "    ax.set_xlabel(xlabel)\n",
    "    ax.set_ylabel(ylabel)\n",
    "    plt.show()\n",
    "\n",
    "def compute_daily_returns(df):\n",
    "    \"\"\"Compute and return the daily return values\"\"\"\n",
    "    daily_returns = df.copy() # copy given DataFrame to mathc size and column names\n",
    "    # compute daily returns for row 1 onwards\n",
    "    daily_returns[1:] = (df[1:] / df[:-1].values) - 1\n",
    "    daily_returns.ix[0, :] = 0 # set daily returns for row 0 to 0\n",
    "    return daily_returns\n",
    "\n",
    "\n",
    "def test_run():\n",
    "    # read data\n",
    "    dates = pd.date_range('2012-07-01', '2012-07-31')\n",
    "    symbols = ['SPY', 'XOM']\n",
    "    df = get_data(symbols, dates)\n",
    "    plot_data(df)\n",
    "    \n",
    "    #Compute daily returns\n",
    "    daily_returns = compute_daily_returns(df)\n",
    "    plot_data(daily_returns, title=\"Daily returns\", ylabel=\"Daily returns\")\n",
    "    \n",
    "if __name__ == \"__main__\":\n",
    "    test_run()"
   ]
  },
  {
   "cell_type": "markdown",
   "metadata": {},
   "source": [
    "## Daily Returns - directly with pandas df"
   ]
  },
  {
   "cell_type": "code",
   "execution_count": 22,
   "metadata": {
    "collapsed": true
   },
   "outputs": [],
   "source": [
    "import os\n",
    "import pandas as pd\n",
    "import matplotlib.pyplot as plt\n",
    "\n",
    "def plot_selected(df, columns, start_index, end_index):\n",
    "    \"\"\"Plot the desired columns over index values in the given range\"\"\"\n",
    "    plot_data(df.ix[start_index:end_index,columns], title=\"Selected data\")\n",
    "     \n",
    "\n",
    "def symbol_to_path(symbol, base_dir=\"data\"):\n",
    "    \"\"\"Return CSV file path given ticker symbol\"\"\"\n",
    "    return os.path.join(base_dir, \"{}.csv\".format(str(symbol)))\n",
    "\n",
    "def get_data(symbols, dates):\n",
    "    \"\"\"Read stock data (adjusted close) for given symbols from CSV files\"\"\"\n",
    "    df = pd.DataFrame(index=dates)\n",
    "    if 'SPY' not in symbols: # add SPY for reference, if absent\n",
    "        symbols.insert(0, 'SPY')\n",
    "        \n",
    "    for symbol in symbols:\n",
    "        df_temp = pd.read_csv(symbol_to_path(symbol), index_col='Date',\n",
    "                           parse_dates=True, usecols=['Date', 'Adj Close'], na_values=['nan'])\n",
    "        df_temp = df_temp.rename(columns = {'Adj Close': symbol})\n",
    "        df = df.join(df_temp) # use default how='left'\n",
    "        if symbol == 'SPY': #drop dates SPY did not trade\n",
    "            df = df.dropna(subset=[\"SPY\"])\n",
    "        \n",
    "    return df\n",
    "\n",
    "def plot_data(df, title=\"Stock prices\", xlabel=\"Date\", ylabel=\"price\"):\n",
    "    \"\"\"Plot stock prices with a custom title and meaningful axis labels\"\"\"\n",
    "    ax = df.plot(title=title, fontsize=12)\n",
    "    ax.set_xlabel(xlabel)\n",
    "    ax.set_ylabel(ylabel)\n",
    "    plt.show()\n",
    "\n",
    "def compute_daily_returns(df):\n",
    "    \"\"\"Compute and return the daily return values\"\"\"\n",
    "    daily_returns = (df / df.shift(1)) - 1    # much easier with pandas\n",
    "    daily_returns.ix[0,:] = 0 # pandas leaves the 0th row full of Nans\n",
    "    return daily_returns\n",
    "\n",
    "\n",
    "def test_run():\n",
    "    # read data\n",
    "    dates = pd.date_range('2012-07-01', '2012-07-31')\n",
    "    symbols = ['SPY', 'XOM']\n",
    "    df = get_data(symbols, dates)\n",
    "    plot_data(df)\n",
    "    \n",
    "    #Compute daily returns\n",
    "    daily_returns = compute_daily_returns(df)\n",
    "    plot_data(daily_returns, title=\"Daily returns\", ylabel=\"Daily returns\")\n",
    "    \n",
    "if __name__ == \"__main__\":\n",
    "    test_run()"
   ]
  },
  {
   "cell_type": "markdown",
   "metadata": {},
   "source": [
    "## Cumulative returns"
   ]
  },
  {
   "cell_type": "code",
   "execution_count": null,
   "metadata": {
    "collapsed": true
   },
   "outputs": [],
   "source": []
  },
  {
   "cell_type": "code",
   "execution_count": null,
   "metadata": {
    "collapsed": true
   },
   "outputs": [],
   "source": []
  }
 ],
 "metadata": {
  "kernelspec": {
   "display_name": "Python 2",
   "language": "python",
   "name": "python2"
  },
  "language_info": {
   "codemirror_mode": {
    "name": "ipython",
    "version": 2
   },
   "file_extension": ".py",
   "mimetype": "text/x-python",
   "name": "python",
   "nbconvert_exporter": "python",
   "pygments_lexer": "ipython2",
   "version": "2.7.12"
  }
 },
 "nbformat": 4,
 "nbformat_minor": 0
}
